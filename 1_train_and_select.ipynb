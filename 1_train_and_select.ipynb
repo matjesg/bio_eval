{
  "nbformat": 4,
  "nbformat_minor": 0,
  "metadata": {
    "accelerator": "GPU",
    "colab": {
      "name": "Deepflash_SC.ipynb",
      "provenance": [],
      "toc_visible": true,
      "include_colab_link": true
    },
    "kernelspec": {
      "display_name": "Python 3",
      "language": "python",
      "name": "python3"
    },
    "language_info": {
      "codemirror_mode": {
        "name": "ipython",
        "version": 3
      },
      "file_extension": ".py",
      "mimetype": "text/x-python",
      "name": "python",
      "nbconvert_exporter": "python",
      "pygments_lexer": "ipython3",
      "version": "3.7.3"
    }
  },
  "cells": [
    {
      "cell_type": "markdown",
      "metadata": {
        "id": "view-in-github",
        "colab_type": "text"
      },
      "source": [
        "<a href=\"https://colab.research.google.com/github/matjesg/bioimage_analysis/blob/master/1_train_and_select.ipynb\" target=\"_parent\"><img src=\"https://colab.research.google.com/assets/colab-badge.svg\" alt=\"Open In Colab\"/></a>"
      ]
    },
    {
      "cell_type": "code",
      "metadata": {
        "id": "5BZovilofhrN",
        "colab_type": "code",
        "colab": {}
      },
      "source": [
        "!pip freeze > requirements.txt"
      ],
      "execution_count": null,
      "outputs": []
    },
    {
      "cell_type": "code",
      "metadata": {
        "Collapsed": "false",
        "id": "LHGP8NywL-sT",
        "colab_type": "code",
        "colab": {
          "base_uri": "https://localhost:8080/",
          "height": 283
        },
        "cellView": "both",
        "outputId": "1bcbca1e-f1f8-457d-ae90-d3045449bdb9"
      },
      "source": [
        "#@title Set up Google Colab environment\n",
        "#@markdown Please run this cell to get started.\n",
        "%tensorflow_version 1.x\n",
        "#!pip install tensorflow-gpu==1.14\n",
        "!git clone https://github.com/matjesg/bioimage_analysis.git\n",
        "!pip install simpleITK\n",
        "%cd bioimage_analysis\n",
        "import os\n",
        "import numpy as np\n",
        "import pandas as pd\n",
        "from skimage import io\n",
        "import keras.backend as K\n",
        "from unet import unet, preproc, lrfinder, utils\n",
        "from sklearn.model_selection import StratifiedKFold"
      ],
      "execution_count": 1,
      "outputs": [
        {
          "output_type": "stream",
          "text": [
            "TensorFlow 1.x selected.\n",
            "Cloning into 'bioimage_analysis'...\n",
            "remote: Enumerating objects: 697, done.\u001b[K\n",
            "remote: Counting objects: 100% (697/697), done.\u001b[K\n",
            "remote: Compressing objects: 100% (657/657), done.\u001b[K\n",
            "remote: Total 697 (delta 52), reused 677 (delta 38), pack-reused 0\u001b[K\n",
            "Receiving objects: 100% (697/697), 41.99 MiB | 34.15 MiB/s, done.\n",
            "Resolving deltas: 100% (52/52), done.\n",
            "Collecting simpleITK\n",
            "\u001b[?25l  Downloading https://files.pythonhosted.org/packages/f8/d8/53338c34f71020725ffb3557846c80af96c29c03bc883551a2565aa68a7c/SimpleITK-1.2.4-cp36-cp36m-manylinux1_x86_64.whl (42.5MB)\n",
            "\u001b[K     |████████████████████████████████| 42.5MB 75kB/s \n",
            "\u001b[?25hInstalling collected packages: simpleITK\n",
            "Successfully installed simpleITK-1.2.4\n",
            "/content/bioimage_analysis\n"
          ],
          "name": "stdout"
        },
        {
          "output_type": "stream",
          "text": [
            "Using TensorFlow backend.\n"
          ],
          "name": "stderr"
        }
      ]
    },
    {
      "cell_type": "markdown",
      "metadata": {
        "Collapsed": "false",
        "colab_type": "text",
        "id": "dnBXTRubeh7g"
      },
      "source": [
        "# Traing and model selection pipeline "
      ]
    },
    {
      "cell_type": "markdown",
      "metadata": {
        "Collapsed": "false",
        "colab_type": "text",
        "id": "nQ09MgFGeh7u"
      },
      "source": [
        "## Set parameters \n",
        "__Laboratory, consensus strategy, and model weights__\n",
        "- `LAB`: one of `inns1`, `inns2`, `mue`, `wue1`, `wue2`\n",
        "- `STRATEGY`: `consensus` or expert_x (e.g., `expert_1`) models\n",
        "- `PRETRAINED_WEIGHTS`: weights for model initialization (`None` for random initialization)"
      ]
    },
    {
      "cell_type": "code",
      "metadata": {
        "Collapsed": "false",
        "id": "Vyt1jH3iL-sf",
        "colab_type": "code",
        "colab": {}
      },
      "source": [
        "LAB = 'wue2'\n",
        "STRATEGY = 'consensus'\n",
        "PRETRAINED_WEIGHTS = None\n",
        "\n",
        "# Other parameters as used in our paper\n",
        "BATCH_SIZE = 4\n",
        "TILE_SHAPE = (540,540)\n",
        "PADDING = (184,184)\n",
        "\n",
        "# Loss weights calculation\n",
        "LAMBDA = 50 \n",
        "V_BAL = 0.1 \n",
        "SIGMA_BAL = 10 \n",
        "SIGMA_SEP = 6"
      ],
      "execution_count": 2,
      "outputs": []
    },
    {
      "cell_type": "markdown",
      "metadata": {
        "Collapsed": "false",
        "id": "lDWXMLbyL-sr",
        "colab_type": "text"
      },
      "source": [
        "## Load and prepare data"
      ]
    },
    {
      "cell_type": "code",
      "metadata": {
        "Collapsed": "false",
        "colab_type": "code",
        "id": "MP_sx-K5eh79",
        "colab": {
          "base_uri": "https://localhost:8080/",
          "height": 49
        },
        "outputId": "171e80ee-8888-4701-e660-437a275314ed"
      },
      "source": [
        "DATA_PATH = \"train_data/lab-{}/images/\".format(LAB)\n",
        "MASK_PATH = \"train_data/lab-{}/labels/\".format(LAB)\n",
        "EXPERTS = [x for x in os.listdir(MASK_PATH) if x.startswith('expert')]\n",
        "LABEL_TYPE = os.listdir(os.path.join(MASK_PATH,EXPERTS[0]))[0].split('_')[1][:-4]\n",
        "\n",
        "# Get IDs\n",
        "file_ids = [x.rsplit('.',1)[0] for x in os.listdir(DATA_PATH)]\n",
        "\n",
        "# Load images\n",
        "images = [np.expand_dims(io.imread(os.path.join(DATA_PATH, x), as_gray=True), axis=2)\n",
        "          for x in [s + '.png' for s in file_ids]]\n",
        "\n",
        "# Load expert segmentation masks\n",
        "mask_dict = {}\n",
        "for exp in EXPERTS:\n",
        "    mask_dict[exp] = [io.imread(os.path.join(MASK_PATH, exp, x), as_gray=True).astype('int')//255 \n",
        "                      for x in [s + '_' + LABEL_TYPE + '.png' for s in file_ids]]\n",
        "\n",
        "# Load consensus (STAPLE)\n",
        "mask_dict['consensus'] = [io.imread(os.path.join(MASK_PATH, 'est_GT', x), as_gray=True).astype('int')//255 \n",
        "                          for x in [s + '_' + LABEL_TYPE + '.png' for s in file_ids]]\n",
        "\n",
        "## (Re-)compute consensus with simple ITK, if necassary\n",
        "# mask_dict['consensus'] = [utils.staple([mask_dict[exp][i] for exp in EXPERTS]) for i in range(len(file_ids))]\n",
        "\n",
        "# Create generator\n",
        "data = [{'rawdata': img, 'element_size_um': [1, 1]} for img in np.array(images)]\n",
        "gen = preproc.DataAugmentationGenerator(data = data, \n",
        "                                        classlabels=np.array(mask_dict[STRATEGY]),\n",
        "                                        tile_shape = TILE_SHAPE, \n",
        "                                        padding= PADDING,\n",
        "                                        batch_size = 2, # only for learning rate finder\n",
        "                                        n_classes=2,\n",
        "                                        rotation_range_deg=(0, 360),\n",
        "                                        flip=False,\n",
        "                                        deformation_grid=(150, 150),\n",
        "                                        deformation_magnitude=(10, 10),\n",
        "                                        value_minimum_range=(0, 0),\n",
        "                                        value_maximum_range=(0.0, 1),\n",
        "                                        value_slope_range=(1, 1),\n",
        "                                        shuffle=True,\n",
        "                                        foreground_dist_sigma_px=SIGMA_BAL,\n",
        "                                        border_weight_sigma_px=SIGMA_SEP,\n",
        "                                        border_weight_factor=LAMBDA,\n",
        "                                        foreground_background_ratio=V_BAL\n",
        "                                        )"
      ],
      "execution_count": 3,
      "outputs": [
        {
          "output_type": "stream",
          "text": [
            "\r  0%|          | 0/5 [00:00<?, ?it/s]"
          ],
          "name": "stderr"
        },
        {
          "output_type": "stream",
          "text": [
            "Processing training samples\n"
          ],
          "name": "stdout"
        },
        {
          "output_type": "stream",
          "text": [
            "100%|██████████| 5/5 [00:20<00:00,  4.20s/it]\n"
          ],
          "name": "stderr"
        }
      ]
    },
    {
      "cell_type": "markdown",
      "metadata": {
        "Collapsed": "false",
        "id": "HbAY0CmoL-sw",
        "colab_type": "text"
      },
      "source": [
        "## Training procedure"
      ]
    },
    {
      "cell_type": "markdown",
      "metadata": {
        "Collapsed": "true",
        "id": "q3fUoNyVL-sx",
        "colab_type": "text"
      },
      "source": [
        "1. Splitting the data into train and validation set (random stratified sampling)\n",
        "1. Determining the learning rate using the learning rate finder (Smith, 2018)\n",
        "1. Training the model with cyclical learning rates according to the fit-one-cycle policy of Smith (2018)"
      ]
    },
    {
      "cell_type": "markdown",
      "metadata": {
        "Collapsed": "false",
        "id": "bo6BUsMHL-sx",
        "colab_type": "text"
      },
      "source": [
        "### Learning Rate Finder\n",
        "Examplary use, results may vary (see  Smith, (2018))"
      ]
    },
    {
      "cell_type": "code",
      "metadata": {
        "Collapsed": "false",
        "id": "KHmZO2wxL-sy",
        "colab_type": "code",
        "colab": {
          "base_uri": "https://localhost:8080/",
          "height": 450
        },
        "outputId": "b8588fce-b7d2-4450-ae10-3ef1d219e70e"
      },
      "source": [
        "# Create model\n",
        "model = unet.Unet2D(snapshot=PRETRAINED_WEIGHTS)\n",
        "\n",
        "# Create and run Learning Rate Finder\n",
        "lrfind = lrfinder.LRFinder(model.trainModel)\n",
        "lrfind.find(gen, start_lr=1e-7, lr_mult=1.1, verbose=0)\n",
        "\n",
        "# Plot loss\n",
        "lrfind.plot_loss()\n",
        "\n",
        "# Free GPU Memory\n",
        "sess = K.get_session()\n",
        "K.clear_session()\n",
        "sess.close()"
      ],
      "execution_count": 4,
      "outputs": [
        {
          "output_type": "stream",
          "text": [
            "WARNING:tensorflow:From /tensorflow-1.15.2/python3.6/tensorflow_core/python/ops/resource_variable_ops.py:1630: calling BaseResourceVariable.__init__ (from tensorflow.python.ops.resource_variable_ops) with constraint is deprecated and will be removed in a future version.\n",
            "Instructions for updating:\n",
            "If using Keras pass *_constraint arguments to layers.\n",
            "WARNING:tensorflow:From /usr/local/lib/python3.6/dist-packages/keras/backend/tensorflow_backend.py:4070: The name tf.nn.max_pool is deprecated. Please use tf.nn.max_pool2d instead.\n",
            "\n"
          ],
          "name": "stdout"
        },
        {
          "output_type": "stream",
          "text": [
            "/usr/local/lib/python3.6/dist-packages/keras/engine/training_utils.py:819: UserWarning: Output softmax_1 missing from loss dictionary. We assume this was done on purpose. The fit and evaluate APIs will not be expecting any data to be passed to softmax_1.\n",
            "  'be expecting any data to be passed to {0}.'.format(name))\n"
          ],
          "name": "stderr"
        },
        {
          "output_type": "stream",
          "text": [
            "WARNING:tensorflow:From /usr/local/lib/python3.6/dist-packages/keras/backend/tensorflow_backend.py:422: The name tf.global_variables is deprecated. Please use tf.compat.v1.global_variables instead.\n",
            "\n"
          ],
          "name": "stdout"
        },
        {
          "output_type": "display_data",
          "data": {
            "image/png": "[encoded data removed]",
            "text/plain": [
              "<Figure size 432x288 with 1 Axes>"
            ]
          },
          "metadata": {
            "tags": [],
            "needs_background": "light"
          }
        }
      ]
    },
    {
      "cell_type": "markdown",
      "metadata": {
        "Collapsed": "false",
        "id": "-YGTTxj_L-s2",
        "colab_type": "text"
      },
      "source": [
        "### Training Loop\n",
        "\n",
        "We used \n",
        "- `SEED` to shuffle train-/validation data (defines the ensemble number, e.g. wue1_ __consensus2__ _model1 for `SEED=2`)) \n",
        "- stratified k-fold cross-validation (the fold later defines the model number, e.g. wue1_consensus2_ __model1__)\n",
        "- `max_lr = 5e-4` for _lab-wue1_ and `max_lr = 1e-4` for all other labs as maximum learning rate, according to the learning rate finder\n",
        "- a cycle length of 972 iterations (27 epochs)\n",
        "    - For faster computation, we randomly sampled 9 (_lab-wue1_) or 36 (other labs) tiles from each augmented image in each epoch\n",
        "\n",
        "We predicted validation images from the saved model weights after each epoch for the post-hoc evaluation. Validation during training was based on image tiles only."
      ]
    },
    {
      "cell_type": "code",
      "metadata": {
        "Collapsed": "false",
        "id": "8gnp7u6zL-s3",
        "colab_type": "code",
        "colab": {
          "base_uri": "https://localhost:8080/",
          "height": 1000
        },
        "outputId": "242f72dd-a653-4eb2-fdfa-3f4155442988"
      },
      "source": [
        "SEED = 1\n",
        "skf = StratifiedKFold(n_splits= 4 if LAB == 'wue1' else 5, \n",
        "                      random_state=SEED, shuffle=True)\n",
        "\n",
        "# Define properties for stratified sampling\n",
        "if LAB == 'wue1': \n",
        "    strata = pd.read_csv('train_data/lab-wue1/groups_wue1.csv', dtype='str')\n",
        "else: \n",
        "    strata = pd.DataFrame({'file_id': file_ids, 'group_id':0})\n",
        "\n",
        "pred_dict = {}\n",
        "fold = 0\n",
        "for train_index, val_index in skf.split(strata['file_id'], strata['group_id']):\n",
        "    fold += 1\n",
        "    name = LAB + '_' + STRATEGY + str(SEED) + '_' + str(fold) \n",
        "    print(name)\n",
        "    \n",
        "    # Split training and validation data\n",
        "    X_train_cv, X_val_cv = np.array(images)[train_index], np.array(images)[val_index]\n",
        "    masks = mask_dict[STRATEGY]\n",
        "    y_train_cv, y_val_cv = np.array(masks)[train_index], np.array(masks)[val_index]\n",
        "    W_train_cv = np.array(gen.weights)[train_index]\n",
        "    data_train_cv = [{'rawdata': img, 'element_size_um': [1, 1]} for img in X_train_cv]\n",
        "    data_val_cv = [{'rawdata': img, 'element_size_um': [1, 1]} for img in X_val_cv]\n",
        "\n",
        "    # Create train generator\n",
        "    train_generator = preproc.DataAugmentationGenerator(data = data_train_cv, \n",
        "                                                classlabels=y_train_cv,\n",
        "                                                instancelabels=None,\n",
        "                                                tile_shape = TILE_SHAPE, \n",
        "                                                padding= PADDING,\n",
        "                                                batch_size = 4,\n",
        "                                                n_classes=2,\n",
        "                                                ignore=None,\n",
        "                                                weights=list(W_train_cv),\n",
        "                                                element_size_um=None,\n",
        "                                                rotation_range_deg=(0, 360),\n",
        "                                                flip=False,\n",
        "                                                deformation_grid=(150, 150),\n",
        "                                                deformation_magnitude=(10, 10),\n",
        "                                                value_minimum_range=(0, 0),\n",
        "                                                value_maximum_range=(0.0, 1),\n",
        "                                                value_slope_range=(1, 1),\n",
        "                                                shuffle=True,\n",
        "                                                foreground_dist_sigma_px=SIGMA_BAL,\n",
        "                                                border_weight_sigma_px=SIGMA_SEP,\n",
        "                                                border_weight_factor=LAMBDA,\n",
        "                                                foreground_background_ratio=V_BAL)\n",
        "    # Create validation generator\n",
        "    tile_generator_val = preproc.TileGenerator(data_val_cv, TILE_SHAPE, PADDING, \n",
        "                                           classlabels=y_val_cv,\n",
        "                                           foreground_dist_sigma_px=SIGMA_BAL,\n",
        "                                           border_weight_sigma_px=SIGMA_SEP,\n",
        "                                           border_weight_factor=LAMBDA,\n",
        "                                           foreground_background_ratio=V_BAL)\n",
        "    \n",
        "    # Create model\n",
        "    model = unet.Unet2D(snapshot=PRETRAINED_WEIGHTS, name=name)\n",
        "\n",
        "    # Fit model\n",
        "    model.fit_one_cycle(train_generator, \n",
        "                        max_lr = 5e-4 if LAB == 'wue1' else 1e-4,\n",
        "                        final_epoch = 12 if LAB == 'wue1' else 27,\n",
        "                        validation_generator= tile_generator_val, \n",
        "                        snapshot_dir = '_cp/fold'+str(fold),\n",
        "                        snapshot_prefix=name,\n",
        "                        step_muliplier=9 if LAB == 'wue1' else 36)\n",
        "\n",
        "    # Free GPU Memory\n",
        "    sess = K.get_session()\n",
        "    K.clear_session()\n",
        "    sess.close()\n",
        "\n",
        "    # Get checkpoint names\n",
        "    cps = sorted([x for x in os.listdir('_cp/fold'+str(fold)) if x.startswith(name)])\n",
        "    file_ids_val = list(np.array(file_ids)[val_index])\n",
        "\n",
        "    # Predict validation images for post-hoc evaluation\n",
        "    for cp in sorted(cps):\n",
        "        print(cp)\n",
        "        pred_model = unet.Unet2D(snapshot=os.path.join('_cp/fold'+str(fold), cp))\n",
        "        predictions = pred_model.predict(tile_generator_val)   \n",
        "        for i, idx in enumerate(file_ids_val):           \n",
        "            pred_dict[(cp, idx)] = predictions[1][i]\n",
        "        \n",
        "        # Free GPU Memory\n",
        "        sess = K.get_session()\n",
        "        K.clear_session()\n",
        "        sess.close()"
      ],
      "execution_count": 6,
      "outputs": [
        {
          "output_type": "stream",
          "text": [
            "100%|██████████| 4/4 [00:00<00:00, 56.44it/s]"
          ],
          "name": "stderr"
        },
        {
          "output_type": "stream",
          "text": [
            "wue2_consensus1_1\n",
            "Processing training samples\n"
          ],
          "name": "stdout"
        },
        {
          "output_type": "stream",
          "text": [
            "\n",
            "  0%|          | 0/1 [00:00<?, ?it/s]"
          ],
          "name": "stderr"
        },
        {
          "output_type": "stream",
          "text": [
            "Processing test samples\n"
          ],
          "name": "stdout"
        },
        {
          "output_type": "stream",
          "text": [
            "100%|██████████| 1/1 [00:05<00:00,  5.91s/it]\n",
            "/usr/local/lib/python3.6/dist-packages/keras/engine/training_utils.py:819: UserWarning: Output softmax_1 missing from loss dictionary. We assume this was done on purpose. The fit and evaluate APIs will not be expecting any data to be passed to softmax_1.\n",
            "  'be expecting any data to be passed to {0}.'.format(name))\n",
            "/content/bioimage_analysis/unet/unet.py:226: UserWarning: The semantics of the Keras 2 argument `steps_per_epoch` is not the same as the Keras 1 argument `samples_per_epoch`. `steps_per_epoch` is the number of batches to draw from the generator at each epoch. Basically steps_per_epoch = samples_per_epoch/batch_size. Similarly `nb_val_samples`->`validation_steps` and `val_samples`->`steps` arguments have changed. Update your method calls accordingly.\n",
            "  callbacks=callbacks)\n",
            "/content/bioimage_analysis/unet/unet.py:226: UserWarning: Update your `fit_generator` call to the Keras 2 API: `fit_generator(<unet.prep..., steps_per_epoch=36.0, epochs=2, initial_epoch=0, validation_data=<unet.prep..., verbose=True, callbacks=[<keras.ca..., validation_steps=9)`\n",
            "  callbacks=callbacks)\n"
          ],
          "name": "stderr"
        },
        {
          "output_type": "stream",
          "text": [
            "Epoch 1/2\n",
            "36/36 [==============================] - 110s 3s/step - loss: 0.3170 - val_loss: 0.5203\n",
            "Epoch 2/2\n",
            "36/36 [==============================] - 86s 2s/step - loss: 0.1649 - val_loss: 0.2238\n",
            "wue2_consensus1_1.0001.h5\n"
          ],
          "name": "stdout"
        },
        {
          "output_type": "stream",
          "text": [
            "/usr/local/lib/python3.6/dist-packages/keras/engine/training_utils.py:819: UserWarning: Output softmax_1 missing from loss dictionary. We assume this was done on purpose. The fit and evaluate APIs will not be expecting any data to be passed to softmax_1.\n",
            "  'be expecting any data to be passed to {0}.'.format(name))\n",
            "100%|██████████| 9/9 [00:02<00:00,  3.19it/s]\n"
          ],
          "name": "stderr"
        },
        {
          "output_type": "stream",
          "text": [
            "wue2_consensus1_1.0002.h5\n"
          ],
          "name": "stdout"
        },
        {
          "output_type": "stream",
          "text": [
            "100%|██████████| 9/9 [00:02<00:00,  3.34it/s]\n",
            "100%|██████████| 4/4 [00:00<00:00, 57.24it/s]\n"
          ],
          "name": "stderr"
        },
        {
          "output_type": "stream",
          "text": [
            "wue2_consensus1_2\n",
            "Processing training samples\n"
          ],
          "name": "stdout"
        },
        {
          "output_type": "stream",
          "text": [
            "\r  0%|          | 0/1 [00:00<?, ?it/s]"
          ],
          "name": "stderr"
        },
        {
          "output_type": "stream",
          "text": [
            "Processing test samples\n"
          ],
          "name": "stdout"
        },
        {
          "output_type": "stream",
          "text": [
            "100%|██████████| 1/1 [00:02<00:00,  2.65s/it]\n",
            "/content/bioimage_analysis/unet/unet.py:226: UserWarning: The semantics of the Keras 2 argument `steps_per_epoch` is not the same as the Keras 1 argument `samples_per_epoch`. `steps_per_epoch` is the number of batches to draw from the generator at each epoch. Basically steps_per_epoch = samples_per_epoch/batch_size. Similarly `nb_val_samples`->`validation_steps` and `val_samples`->`steps` arguments have changed. Update your method calls accordingly.\n",
            "  callbacks=callbacks)\n",
            "/content/bioimage_analysis/unet/unet.py:226: UserWarning: Update your `fit_generator` call to the Keras 2 API: `fit_generator(<unet.prep..., steps_per_epoch=36.0, epochs=2, initial_epoch=0, validation_data=<unet.prep..., verbose=True, callbacks=[<keras.ca..., validation_steps=9)`\n",
            "  callbacks=callbacks)\n"
          ],
          "name": "stderr"
        },
        {
          "output_type": "stream",
          "text": [
            "Epoch 1/2\n",
            "36/36 [==============================] - 90s 3s/step - loss: 0.5217 - val_loss: 0.5151\n",
            "Epoch 2/2\n",
            "36/36 [==============================] - 86s 2s/step - loss: 0.1881 - val_loss: 0.1837\n",
            "wue2_consensus1_2.0001.h5\n"
          ],
          "name": "stdout"
        },
        {
          "output_type": "stream",
          "text": [
            "/usr/local/lib/python3.6/dist-packages/keras/engine/training_utils.py:819: UserWarning: Output softmax_1 missing from loss dictionary. We assume this was done on purpose. The fit and evaluate APIs will not be expecting any data to be passed to softmax_1.\n",
            "  'be expecting any data to be passed to {0}.'.format(name))\n",
            "100%|██████████| 9/9 [00:02<00:00,  3.17it/s]\n"
          ],
          "name": "stderr"
        },
        {
          "output_type": "stream",
          "text": [
            "wue2_consensus1_2.0002.h5\n"
          ],
          "name": "stdout"
        },
        {
          "output_type": "stream",
          "text": [
            "100%|██████████| 9/9 [00:02<00:00,  3.34it/s]\n",
            "100%|██████████| 4/4 [00:00<00:00, 49.86it/s]\n"
          ],
          "name": "stderr"
        },
        {
          "output_type": "stream",
          "text": [
            "wue2_consensus1_3\n",
            "Processing training samples\n"
          ],
          "name": "stdout"
        },
        {
          "output_type": "stream",
          "text": [
            "\r  0%|          | 0/1 [00:00<?, ?it/s]"
          ],
          "name": "stderr"
        },
        {
          "output_type": "stream",
          "text": [
            "Processing test samples\n"
          ],
          "name": "stdout"
        },
        {
          "output_type": "stream",
          "text": [
            "100%|██████████| 1/1 [00:03<00:00,  3.82s/it]\n",
            "/content/bioimage_analysis/unet/unet.py:226: UserWarning: The semantics of the Keras 2 argument `steps_per_epoch` is not the same as the Keras 1 argument `samples_per_epoch`. `steps_per_epoch` is the number of batches to draw from the generator at each epoch. Basically steps_per_epoch = samples_per_epoch/batch_size. Similarly `nb_val_samples`->`validation_steps` and `val_samples`->`steps` arguments have changed. Update your method calls accordingly.\n",
            "  callbacks=callbacks)\n",
            "/content/bioimage_analysis/unet/unet.py:226: UserWarning: Update your `fit_generator` call to the Keras 2 API: `fit_generator(<unet.prep..., steps_per_epoch=36.0, epochs=2, initial_epoch=0, validation_data=<unet.prep..., verbose=True, callbacks=[<keras.ca..., validation_steps=9)`\n",
            "  callbacks=callbacks)\n"
          ],
          "name": "stderr"
        },
        {
          "output_type": "stream",
          "text": [
            "Epoch 1/2\n",
            "36/36 [==============================] - 90s 3s/step - loss: 0.4830 - val_loss: 0.4454\n",
            "Epoch 2/2\n",
            "36/36 [==============================] - 86s 2s/step - loss: 0.1725 - val_loss: 0.1625\n",
            "wue2_consensus1_3.0001.h5\n"
          ],
          "name": "stdout"
        },
        {
          "output_type": "stream",
          "text": [
            "/usr/local/lib/python3.6/dist-packages/keras/engine/training_utils.py:819: UserWarning: Output softmax_1 missing from loss dictionary. We assume this was done on purpose. The fit and evaluate APIs will not be expecting any data to be passed to softmax_1.\n",
            "  'be expecting any data to be passed to {0}.'.format(name))\n",
            "100%|██████████| 9/9 [00:02<00:00,  3.22it/s]\n"
          ],
          "name": "stderr"
        },
        {
          "output_type": "stream",
          "text": [
            "wue2_consensus1_3.0002.h5\n"
          ],
          "name": "stdout"
        },
        {
          "output_type": "stream",
          "text": [
            "100%|██████████| 9/9 [00:02<00:00,  3.34it/s]\n",
            "100%|██████████| 4/4 [00:00<00:00, 51.18it/s]\n"
          ],
          "name": "stderr"
        },
        {
          "output_type": "stream",
          "text": [
            "wue2_consensus1_4\n",
            "Processing training samples\n"
          ],
          "name": "stdout"
        },
        {
          "output_type": "stream",
          "text": [
            "\r  0%|          | 0/1 [00:00<?, ?it/s]"
          ],
          "name": "stderr"
        },
        {
          "output_type": "stream",
          "text": [
            "Processing test samples\n"
          ],
          "name": "stdout"
        },
        {
          "output_type": "stream",
          "text": [
            "100%|██████████| 1/1 [00:09<00:00,  9.57s/it]\n",
            "/content/bioimage_analysis/unet/unet.py:226: UserWarning: The semantics of the Keras 2 argument `steps_per_epoch` is not the same as the Keras 1 argument `samples_per_epoch`. `steps_per_epoch` is the number of batches to draw from the generator at each epoch. Basically steps_per_epoch = samples_per_epoch/batch_size. Similarly `nb_val_samples`->`validation_steps` and `val_samples`->`steps` arguments have changed. Update your method calls accordingly.\n",
            "  callbacks=callbacks)\n",
            "/content/bioimage_analysis/unet/unet.py:226: UserWarning: Update your `fit_generator` call to the Keras 2 API: `fit_generator(<unet.prep..., steps_per_epoch=36.0, epochs=2, initial_epoch=0, validation_data=<unet.prep..., verbose=True, callbacks=[<keras.ca..., validation_steps=9)`\n",
            "  callbacks=callbacks)\n"
          ],
          "name": "stderr"
        },
        {
          "output_type": "stream",
          "text": [
            "Epoch 1/2\n",
            "36/36 [==============================] - 90s 3s/step - loss: 0.5029 - val_loss: 0.4711\n",
            "Epoch 2/2\n",
            "36/36 [==============================] - 85s 2s/step - loss: 0.1755 - val_loss: 0.2780\n",
            "wue2_consensus1_4.0001.h5\n"
          ],
          "name": "stdout"
        },
        {
          "output_type": "stream",
          "text": [
            "/usr/local/lib/python3.6/dist-packages/keras/engine/training_utils.py:819: UserWarning: Output softmax_1 missing from loss dictionary. We assume this was done on purpose. The fit and evaluate APIs will not be expecting any data to be passed to softmax_1.\n",
            "  'be expecting any data to be passed to {0}.'.format(name))\n",
            "100%|██████████| 9/9 [00:02<00:00,  3.14it/s]\n"
          ],
          "name": "stderr"
        },
        {
          "output_type": "stream",
          "text": [
            "wue2_consensus1_4.0002.h5\n"
          ],
          "name": "stdout"
        },
        {
          "output_type": "stream",
          "text": [
            "100%|██████████| 9/9 [00:02<00:00,  3.36it/s]\n",
            "100%|██████████| 4/4 [00:00<00:00, 50.70it/s]\n"
          ],
          "name": "stderr"
        },
        {
          "output_type": "stream",
          "text": [
            "wue2_consensus1_5\n",
            "Processing training samples\n"
          ],
          "name": "stdout"
        },
        {
          "output_type": "stream",
          "text": [
            "\r  0%|          | 0/1 [00:00<?, ?it/s]"
          ],
          "name": "stderr"
        },
        {
          "output_type": "stream",
          "text": [
            "Processing test samples\n"
          ],
          "name": "stdout"
        },
        {
          "output_type": "stream",
          "text": [
            "100%|██████████| 1/1 [00:04<00:00,  4.26s/it]\n",
            "/content/bioimage_analysis/unet/unet.py:226: UserWarning: The semantics of the Keras 2 argument `steps_per_epoch` is not the same as the Keras 1 argument `samples_per_epoch`. `steps_per_epoch` is the number of batches to draw from the generator at each epoch. Basically steps_per_epoch = samples_per_epoch/batch_size. Similarly `nb_val_samples`->`validation_steps` and `val_samples`->`steps` arguments have changed. Update your method calls accordingly.\n",
            "  callbacks=callbacks)\n",
            "/content/bioimage_analysis/unet/unet.py:226: UserWarning: Update your `fit_generator` call to the Keras 2 API: `fit_generator(<unet.prep..., steps_per_epoch=36.0, epochs=2, initial_epoch=0, validation_data=<unet.prep..., verbose=True, callbacks=[<keras.ca..., validation_steps=9)`\n",
            "  callbacks=callbacks)\n"
          ],
          "name": "stderr"
        },
        {
          "output_type": "stream",
          "text": [
            "Epoch 1/2\n",
            "36/36 [==============================] - 90s 2s/step - loss: 0.4393 - val_loss: 0.4422\n",
            "Epoch 2/2\n",
            "36/36 [==============================] - 85s 2s/step - loss: 0.1918 - val_loss: 0.1149\n",
            "wue2_consensus1_5.0001.h5\n"
          ],
          "name": "stdout"
        },
        {
          "output_type": "stream",
          "text": [
            "/usr/local/lib/python3.6/dist-packages/keras/engine/training_utils.py:819: UserWarning: Output softmax_1 missing from loss dictionary. We assume this was done on purpose. The fit and evaluate APIs will not be expecting any data to be passed to softmax_1.\n",
            "  'be expecting any data to be passed to {0}.'.format(name))\n",
            "100%|██████████| 9/9 [00:02<00:00,  3.17it/s]\n"
          ],
          "name": "stderr"
        },
        {
          "output_type": "stream",
          "text": [
            "wue2_consensus1_5.0002.h5\n"
          ],
          "name": "stdout"
        },
        {
          "output_type": "stream",
          "text": [
            "100%|██████████| 9/9 [00:02<00:00,  3.35it/s]\n"
          ],
          "name": "stderr"
        }
      ]
    },
    {
      "cell_type": "markdown",
      "metadata": {
        "Collapsed": "false",
        "id": "xallCZxjL-s7",
        "colab_type": "text"
      },
      "source": [
        "## Model Selection"
      ]
    },
    {
      "cell_type": "markdown",
      "metadata": {
        "Collapsed": "false",
        "id": "2mipZoCbL-s8",
        "colab_type": "text"
      },
      "source": [
        "Selecting the model with the highest F1 score on the validation set. We used\n",
        "- `MIN_PIXEL` to approximate the minimum biologically justifiable size based on the smallest area that was annotated by a human expert \n",
        "- `IOU_t=0.5` as IoU threshold"
      ]
    },
    {
      "cell_type": "code",
      "metadata": {
        "Collapsed": "false",
        "id": "80er644PL-s9",
        "colab_type": "code",
        "colab": {}
      },
      "source": [
        "MIN_PIXEL = {'inns1':16, 'inns2':60, 'mue':30, 'wue1':30, 'wue2':112}\n",
        "IOU_t=0.5"
      ],
      "execution_count": 7,
      "outputs": []
    },
    {
      "cell_type": "markdown",
      "metadata": {
        "Collapsed": "false",
        "id": "jVpo2oXtL-tC",
        "colab_type": "text"
      },
      "source": [
        "__Similarity analysis and model selection__"
      ]
    },
    {
      "cell_type": "code",
      "metadata": {
        "Collapsed": "false",
        "id": "SFH8gkL8L-tC",
        "colab_type": "code",
        "colab": {
          "base_uri": "https://localhost:8080/",
          "height": 140
        },
        "outputId": "cd1ed566-ada3-4d76-ce85-65dcb55c87ac"
      },
      "source": [
        "res_list = []\n",
        "for i, idx in enumerate(file_ids):\n",
        "    # Exclude area from analysis (wue2 only)\n",
        "    if LAB == 'wue2':\n",
        "        exclude = [io.imread(os.path.join(\"train_data/lab-wue2/ignored_regions/\", x), as_gray=True)//255 for \n",
        "                   x in [idx + '_ignore.png' for s in file_ids]]\n",
        "        for exp in EXPERTS+['consensus']:\n",
        "            mask_dict[exp][i][exclude[i]==1]=0\n",
        "        for cp, idx2 in pred_dict:\n",
        "            if idx==idx2:\n",
        "                pred_dict[(cp, idx)][exclude[i]==1]=0\n",
        "\n",
        "    # Label connected regions\n",
        "    label_a = utils.label_mask(mask_dict['consensus'][i], min_pixel=MIN_PIXEL[LAB])\n",
        "    for exp in EXPERTS:\n",
        "        # Label connected regions\n",
        "        label_b =  utils.label_mask(mask_dict[exp][i], min_pixel=MIN_PIXEL[LAB])\n",
        "        # Match ROIs\n",
        "        tmp_res =  utils.iou_mapping(label_a, label_b, min_roi_size=MIN_PIXEL[LAB])\n",
        "        df_exp = pd.Series({'FileId' : idx,\n",
        "                            'Type': 'ref',\n",
        "                              'cp_name' : exp,\n",
        "                              'count_a': tmp_res[3], \n",
        "                              'count_b': tmp_res[4], \n",
        "                              'matches_iou' : tmp_res[0]})\n",
        "        res_list += [df_exp]\n",
        "    for cp, idx2 in pred_dict:\n",
        "        if idx==idx2:\n",
        "            # Label connected regions\n",
        "            label_b =  utils.label_mask(pred_dict[(cp, idx)], min_pixel=MIN_PIXEL[LAB])\n",
        "            # Match ROIs\n",
        "            tmp_res =  utils.iou_mapping(label_a, label_b, min_roi_size=MIN_PIXEL[LAB])\n",
        "            df_pred = pd.Series({'FileId' : idx,\n",
        "                                'Type': 'pred',\n",
        "                                  'cp_name' : cp,\n",
        "                                  'count_a': tmp_res[3], \n",
        "                                  'count_b': tmp_res[4], \n",
        "                                  'matches_iou' : tmp_res[0]})\n",
        "            res_list += [df_pred]\n",
        "            \n",
        "# Compute precision, recall, and F1 score\n",
        "df = pd.DataFrame(res_list)\n",
        "df['fold'] = df['cp_name'].str[-9:-8]\n",
        "df['matches'] =  df['matches_iou'].apply(lambda x : x[x>IOU_t].shape[0] if len(x)>0 else 0)\n",
        "df['precision'] =  df.matches/df.count_a\n",
        "df['recall'] = df.matches/df.count_b\n",
        "df['f1_score'] = 2 * (df.precision * df.recall) / (df.precision + df.recall)\n",
        "\n",
        "# # filter models below expert reference lower bound\n",
        "exp_lb = df[df.Type=='ref'].groupby('FileId').f1_score.min()\n",
        "exp_lb.name = 'f1_lb'\n",
        "df_pred = df[df.Type=='pred'].join(exp_lb, on='FileId')\n",
        "#df_pred = df_pred[df_pred.f1_lb<df_pred.f1_score]\n",
        "\n",
        "# select models with highest f1 score (f1 score median)\n",
        "df_select = (df_pred.groupby(['fold', 'cp_name'])\n",
        "             .f1_score.agg(['median', 'count'])\n",
        "             .reset_index('cp_name')\n",
        "             .sort_values('median')\n",
        "             .groupby(['fold'])\n",
        "             .first().reset_index())\n",
        "df_select = df_select[df_select['count']==len(val_index)]\n",
        "df_select['ensemble_model_number'] = df_select.cp_name.str[:-9]+'model'+df_select.fold\n",
        "\n",
        "# Print models selected for ensembling\n",
        "df_select[['cp_name', 'ensemble_model_number']]"
      ],
      "execution_count": 13,
      "outputs": [
        {
          "output_type": "execute_result",
          "data": {
            "text/html": [
              "<div>\n",
              "<style scoped>\n",
              "    .dataframe tbody tr th:only-of-type {\n",
              "        vertical-align: middle;\n",
              "    }\n",
              "\n",
              "    .dataframe tbody tr th {\n",
              "        vertical-align: top;\n",
              "    }\n",
              "\n",
              "    .dataframe thead th {\n",
              "        text-align: right;\n",
              "    }\n",
              "</style>\n",
              "<table border=\"1\" class=\"dataframe\">\n",
              "  <thead>\n",
              "    <tr style=\"text-align: right;\">\n",
              "      <th></th>\n",
              "      <th>cp_name</th>\n",
              "      <th>ensemble_model_number</th>\n",
              "    </tr>\n",
              "  </thead>\n",
              "  <tbody>\n",
              "    <tr>\n",
              "      <th>0</th>\n",
              "      <td>wue2_consensus1_1.0001.h5</td>\n",
              "      <td>wue2_consensus1_model1</td>\n",
              "    </tr>\n",
              "    <tr>\n",
              "      <th>3</th>\n",
              "      <td>wue2_consensus1_4.0002.h5</td>\n",
              "      <td>wue2_consensus1_model4</td>\n",
              "    </tr>\n",
              "    <tr>\n",
              "      <th>4</th>\n",
              "      <td>wue2_consensus1_5.0002.h5</td>\n",
              "      <td>wue2_consensus1_model5</td>\n",
              "    </tr>\n",
              "  </tbody>\n",
              "</table>\n",
              "</div>"
            ],
            "text/plain": [
              "                     cp_name   ensemble_model_number\n",
              "0  wue2_consensus1_1.0001.h5  wue2_consensus1_model1\n",
              "3  wue2_consensus1_4.0002.h5  wue2_consensus1_model4\n",
              "4  wue2_consensus1_5.0002.h5  wue2_consensus1_model5"
            ]
          },
          "metadata": {
            "tags": []
          },
          "execution_count": 13
        }
      ]
    }
  ]
}