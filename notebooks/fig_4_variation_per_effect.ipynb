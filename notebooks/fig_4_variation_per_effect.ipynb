{
 "cells": [
  {
   "cell_type": "code",
   "execution_count": null,
   "metadata": {
    "Collapsed": "false"
   },
   "outputs": [],
   "source": [
    "import pandas as pd\n",
    "import itertools\n",
    "from scipy import stats\n",
    "import pingouin as pg"
   ]
  },
  {
   "cell_type": "markdown",
   "metadata": {
    "Collapsed": "false"
   },
   "source": [
    "## Calculate variation per effect (std)"
   ]
  },
  {
   "cell_type": "code",
   "execution_count": null,
   "metadata": {
    "Collapsed": "false"
   },
   "outputs": [],
   "source": [
    "df = pd.read_csv('figure_source_data/fig_4/stat_results_quantifications_wue1.csv')\n",
    "\n",
    "# Filter data\n",
    "df = df[~((df.ens.str.startswith('expert')&(df.model=='ensemble')))].copy()\n",
    "\n",
    "# Create model type variable\n",
    "df['model_type'] = 'consensus_ensemble'\n",
    "df.loc[(df.ens.str.startswith('consensus'))&(df.model.str.startswith('model')), 'model_type'] = 'consensus_model'\n",
    "df.loc[df.ens.str.startswith('expert'), 'model_type'] = 'expert_model'\n",
    "\n",
    "# Create long format dataframe\n",
    "long_list = []\n",
    "for grp_name in ['mwu1_vs_2', 'mwu1_vs_3', 'mwu2_vs_3']:\n",
    "    df_tmp = df.set_index(['subarea', 'model_type', 'type'])\n",
    "    df_tmp = df_tmp[['eta^2_'+grp_name]+[grp_name]]\n",
    "                                                           \n",
    "    df_tmp.rename(columns={'eta^2_'+grp_name:'eta', grp_name:'vote'}, inplace=True)\n",
    "    df_tmp['effect'] = grp_name\n",
    "    long_list += [df_tmp]\n",
    "df_long = pd.concat(long_list, sort=False).reset_index()\n",
    "\n",
    "# Calc variation per effect (std)\n",
    "df_var = df_long.groupby(['subarea','type','model_type', 'effect'])['eta'].agg(['std']).reset_index()"
   ]
  },
  {
   "cell_type": "markdown",
   "metadata": {
    "Collapsed": "false"
   },
   "source": [
    "## Compute statistics for variation per effect and save results"
   ]
  },
  {
   "cell_type": "code",
   "execution_count": null,
   "metadata": {
    "Collapsed": "false"
   },
   "outputs": [],
   "source": [
    "param = 'std'\n",
    "\n",
    "l_results = []\n",
    "s_ens = df_var.loc[df_var.model_type == 'consensus_ensemble', param]\n",
    "s_cmod = df_var.loc[df_var.model_type == 'consensus_model', param]\n",
    "s_emod = df_var.loc[df_var.model_type == 'expert_model', param]\n",
    "\n",
    "#Check for normal distribution with Shapiro-Wilk\n",
    "grp_norms = []\n",
    "for grp in [s_ens, s_cmod, s_emod]:\n",
    "    if grp.size > 3:\n",
    "        grp_norms.append(stats.shapiro(grp)[1]>0.05)\n",
    "s_grp_norms = pd.Series(grp_norms)\n",
    "\n",
    "#Check for equality of variances with Levene\n",
    "levene = stats.levene(s_ens, s_cmod, s_emod, center = 'mean')[1]>0.05\n",
    "\n",
    "#Check if pre-requisites for parametric testing with One-Way ANOVA are fulfilled\n",
    "if (s_grp_norms.all() == True & levene == True):\n",
    "    check_aov = True\n",
    "else:\n",
    "    check_aov = False\n",
    "\n",
    "#Calculate One-Way ANOVA\n",
    "aov = pg.anova(data = df_var, between='model_type', dv=param, detailed=False)\n",
    "aov_dof1, aov_dof2, aov_fstat, aov_pval = aov['ddof1'][0], aov['ddof2'][0], aov['F'][0], aov['p-unc'][0]\n",
    "\n",
    "#Calculate Kruskal-Wallis ANOVA\n",
    "kwa_hstat, kwa_pval = stats.kruskal(s_ens, s_cmod, s_emod)\n",
    "\n",
    "#Calculate results for pairwise comparisons - parametric and non-parametric:\n",
    "l_t_res = []\n",
    "l_mwu_res = []\n",
    "for (grp1, grp2) in list(itertools.combinations(['consensus_ensemble', 'consensus_model', 'expert_model'], 2)):\n",
    "    ttest = pg.ttest(df_var.loc[df_var.model_type == grp1, param], df_var.loc[df_var.model_type == grp2, param], tail = 'two-sided', correction = 'auto')\n",
    "    l_t_res.append((ttest['dof']['T-test'], ttest['T']['T-test'], ttest['p-val']['T-test']))\n",
    "    u_stat, pval = stats.mannwhitneyu(df_var.loc[df_var.model_type == grp1, param],df_var.loc[df_var.model_type == grp2, param], alternative = 'two-sided')\n",
    "    l_mwu_res.append((u_stat, pval))\n",
    "\n",
    "#Append results to list\n",
    "l_results.append((param, df_var.loc[df_var.model_type == 'ens', param].mean(), \n",
    "                  df_var.loc[df_var.model_type == 'single', param].mean(),\n",
    "                  df_var.loc[df_var.model_type == 'single_coder', param].mean(), \n",
    "                  check_aov, aov_dof1, aov_dof2, aov_fstat, aov_pval, \n",
    "                  l_t_res[0][0], l_t_res[0][1], l_t_res[0][2],\n",
    "                  l_t_res[1][0], l_t_res[1][1], l_t_res[1][2],\n",
    "                  l_t_res[2][0], l_t_res[2][1], l_t_res[2][2],\n",
    "                  kwa_hstat, kwa_pval,\n",
    "                  l_mwu_res[0][0], l_mwu_res[0][1],\n",
    "                  l_mwu_res[1][0], l_mwu_res[1][1],\n",
    "                  l_mwu_res[2][0], l_mwu_res[2][1]))\n",
    "\n",
    "#Create results DataFrame\n",
    "l_columns = ['Measure', 'Mean_grp1', 'Mean_grp2', 'Mean_grp3',\n",
    "             'ANOVA_ok', 'ddof1', 'ddof2', 'ANOVA_F_stat', 'ANOVA_p_value', \n",
    "              'T_test_dof_grp1_2', 'T_test_T_stat_grp1_2', 'T_test_pval_grp1_2',\n",
    "              'T_test_dof_grp1_3', 'T_test_T_stat_grp1_3', 'T_test_pval_grp1_3',\n",
    "              'T_test_dof_grp2_3', 'T_test_T_stat_grp2_3', 'T_test_pval_grp2_3',\n",
    "              'Kruskal_Wallis_ANOVA_H_stat', 'Kruskal_Wallis_ANOVA_pval',\n",
    "              'MWU_U_stat_grp1_2', 'MWU_pval_grp1_2',\n",
    "              'MWU_U_stat_grp1_3', 'MWU_pval_grp1_3',\n",
    "              'MWU_U_stat_grp2_3', 'MWU_pval_grp2_3'] \n",
    "df_results = pd.DataFrame(l_results, columns = l_columns)\n",
    "df_results.set_index('Measure', inplace=True)\n",
    "df_results.to_excel('figure_source_data/fig_4/stat_results_variation_per_effect.xlsx')"
   ]
  }
 ],
 "metadata": {
  "kernelspec": {
   "display_name": "Python 3",
   "language": "python",
   "name": "python3"
  },
  "language_info": {
   "codemirror_mode": {
    "name": "ipython",
    "version": 3
   },
   "file_extension": ".py",
   "mimetype": "text/x-python",
   "name": "python",
   "nbconvert_exporter": "python",
   "pygments_lexer": "ipython3",
   "version": "3.7.3"
  }
 },
 "nbformat": 4,
 "nbformat_minor": 4
}
