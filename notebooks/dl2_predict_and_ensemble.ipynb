{
 "cells": [
  {
   "cell_type": "code",
   "execution_count": null,
   "metadata": {
    "Collapsed": "false"
   },
   "outputs": [],
   "source": [
    "import os\n",
    "import numpy as np\n",
    "from skimage import io\n",
    "import keras.backend as K\n",
    "\n",
    "# Root directory of the project\n",
    "ROOT_DIR = os.getcwd()\n",
    "if ROOT_DIR.endswith(\"notebooks\"):\n",
    "    # Go up one level to the repo root\n",
    "    os.chdir(os.path.dirname(ROOT_DIR))\n",
    "    \n",
    "# Import unet library\n",
    "from unet import unet, preproc\n",
    "\n",
    "%matplotlib inline"
   ]
  },
  {
   "cell_type": "markdown",
   "metadata": {
    "Collapsed": "false",
    "colab_type": "text",
    "id": "dnBXTRubeh7g"
   },
   "source": [
    "# Model prediction and ensembling"
   ]
  },
  {
   "cell_type": "markdown",
   "metadata": {
    "Collapsed": "false",
    "colab_type": "text",
    "id": "nQ09MgFGeh7u"
   },
   "source": [
    "## Set parameters \n",
    "__Laboratory, consensus strategy, and model weights__\n",
    "- `LAB`: one of `inns1`, `inns2`, `mue`, `wue1`, `wue2`\n",
    "- `INIT`: original model initialization, e.g., `from-scratch` available for _lab_wue1_, `fine-tuned` for other labs\n",
    "- `ENSEMBLE`: Ensemble name (`consensus1` available)\n",
    "- `CHECKPOINT_DIR`: relative path to stored model weights"
   ]
  },
  {
   "cell_type": "code",
   "execution_count": null,
   "metadata": {
    "Collapsed": "false"
   },
   "outputs": [],
   "source": [
    "LAB = 'inns2'\n",
    "INIT = 'fine-tuned'\n",
    "ENSEMBLE = 'consensus1'\n",
    "CHECKPOINT_DIR = 'model_library'\n",
    "\n",
    "# Other parameters as used in our paper\n",
    "BATCH_SIZE = 4\n",
    "TILE_SHAPE = (540,540)\n",
    "PADDING = (184,184)"
   ]
  },
  {
   "cell_type": "markdown",
   "metadata": {
    "Collapsed": "false"
   },
   "source": [
    "## Load and prepare data\n",
    "\n",
    "(data not included in github repository)"
   ]
  },
  {
   "cell_type": "code",
   "execution_count": null,
   "metadata": {
    "Collapsed": "false",
    "colab": {},
    "colab_type": "code",
    "id": "MP_sx-K5eh79"
   },
   "outputs": [],
   "source": [
    "DATA_PATH = \"bioimage_data/lab-{}/images/\".format(LAB) \n",
    "CHECKPOINT_PATH = '{}/lab-{}/{}/{}'.format(CHECKPOINT_DIR, LAB, INIT, ENSEMBLE)\n",
    "MODELS = [x for x in os.listdir(CHECKPOINT_PATH) if x.startswith('model')]\n",
    "\n",
    "# Get image IDs\n",
    "file_ids = [x.rsplit('.',1)[0] for x in os.listdir(DATA_PATH)]\n",
    "\n",
    "# Load images\n",
    "images = [np.expand_dims(io.imread(os.path.join(DATA_PATH, x), as_gray=True), axis=2)\n",
    "          for x in [s + '.tif' for s in file_ids]]\n",
    "\n",
    "# Create generator\n",
    "data = [{'rawdata': img, 'element_size_um': [1,1]} for img in images]\n",
    "tile_generator = preproc.TileGenerator(data, TILE_SHAPE, PADDING)"
   ]
  },
  {
   "cell_type": "markdown",
   "metadata": {
    "Collapsed": "false"
   },
   "source": [
    "## Compute masks and ensemble predictions"
   ]
  },
  {
   "cell_type": "code",
   "execution_count": null,
   "metadata": {
    "Collapsed": "false"
   },
   "outputs": [],
   "source": [
    "softmax_dict = {}\n",
    "\n",
    "for model in MODELS:\n",
    "    \n",
    "    # Get checkpoint names\n",
    "    cp_name = os.listdir(os.path.join(CHECKPOINT_PATH, model))[0]\n",
    "    mod_cp = os.path.join(model, cp_name)\n",
    "    \n",
    "    # Create unet model\n",
    "    cp_model = unet.Unet2D(snapshot= os.path.join(CHECKPOINT_PATH, mod_cp))\n",
    "    \n",
    "    # Predict new masks from selected checkpoints\n",
    "    predictions = cp_model.predict(tile_generator)\n",
    "    softmax_dict[mod_cp] = [predictions[0][i][:,:,1] for i in range(len(file_ids))]\n",
    "    \n",
    "    # Free GPU RAM\n",
    "    sess = K.get_session()\n",
    "    K.clear_session()\n",
    "    sess.close()  \n",
    "        \n",
    "    # Save binary predictions\n",
    "    path = os.path.join('pred_masks', 'lab-'+LAB, ENSEMBLE)\n",
    "    bin_path = os.path.join(path, mod_cp)\n",
    "    if not os.path.isdir(bin_path): os.makedirs(bin_path)\n",
    "    for i, idx in enumerate(file_ids):\n",
    "        file_name = idx + '.png'\n",
    "        io.imsave(os.path.join(bin_path, file_name), (predictions[1][i]*255).astype('uint8'))\n",
    "        \n",
    "# Calculate and save softmax average\n",
    "for i, idx in enumerate(file_ids):\n",
    "    stack_tmp = [softmax_dict[cp][i] for cp in softmax_dict]\n",
    "    stack_tmp = np.mean(stack_tmp, axis=0)\n",
    "    file_name = idx + '.png'\n",
    "    bin_path = os.path.join(path, 'ensemble', LAB+'_'+ENSEMBLE+'_ensemble')\n",
    "    if not os.path.isdir(bin_path): os.makedirs(bin_path)\n",
    "    io.imsave(os.path.join(bin_path, file_name), (stack_tmp > 0.5).astype('uint8') * 255)"
   ]
  }
 ],
 "metadata": {
  "accelerator": "GPU",
  "colab": {
   "include_colab_link": true,
   "name": "Deepflash_SC.ipynb",
   "provenance": [],
   "version": "0.3.2"
  },
  "kernelspec": {
   "display_name": "Python 3",
   "language": "python",
   "name": "python3"
  },
  "language_info": {
   "codemirror_mode": {
    "name": "ipython",
    "version": 3
   },
   "file_extension": ".py",
   "mimetype": "text/x-python",
   "name": "python",
   "nbconvert_exporter": "python",
   "pygments_lexer": "ipython3",
   "version": "3.7.3"
  }
 },
 "nbformat": 4,
 "nbformat_minor": 4
}
