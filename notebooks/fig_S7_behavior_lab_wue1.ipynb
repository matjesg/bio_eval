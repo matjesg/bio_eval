{
 "cells": [
  {
   "cell_type": "code",
   "execution_count": null,
   "metadata": {
    "Collapsed": "false"
   },
   "outputs": [],
   "source": [
    "import os\n",
    "os.environ['OUTDATED_IGNORE'] = '1'\n",
    "import pandas as pd\n",
    "import itertools\n",
    "from scipy import stats\n",
    "import pingouin as pg\n",
    "\n",
    "# Root directory of the project\n",
    "ROOT_DIR = os.getcwd()\n",
    "if ROOT_DIR.endswith(\"notebooks\"):\n",
    "    # Go up one level to the repo root\n",
    "    os.chdir(os.path.dirname(ROOT_DIR))"
   ]
  },
  {
   "cell_type": "markdown",
   "metadata": {
    "Collapsed": "false"
   },
   "source": [
    "## Compute statistics for behavioral analysis Lab-Wue1 and save results"
   ]
  },
  {
   "cell_type": "code",
   "execution_count": null,
   "metadata": {
    "Collapsed": "false"
   },
   "outputs": [],
   "source": [
    "df = pd.read_excel('source_data/fig_S7/behavior_wue1.xlsx')\n",
    "l_param = ['freeze', 'distance']\n",
    "\n",
    "l_results = []\n",
    "for param in l_param:\n",
    "    grp1_tr = df.loc[df.group == 1, param]\n",
    "    grp2_tr = df.loc[df.group == 2, param]\n",
    "    grp1_ret = df.loc[df.group == 3, param]\n",
    "    grp2_ret = df.loc[df.group == 4, param]\n",
    "    l_grps = [grp1_tr, grp2_tr, grp1_ret, grp2_ret]\n",
    "       \n",
    "    #Check for normal distribution with Shapiro-Wilk\n",
    "    grp_norms = []\n",
    "    for grp in l_grps:\n",
    "        if grp.size > 3:\n",
    "            grp_norms.append(stats.shapiro(grp)[1]>0.05)\n",
    "    s_grp_norms = pd.Series(grp_norms)\n",
    "    \n",
    "    #Check for equality of variances with Levene\n",
    "    levene = stats.levene(grp1_tr, grp2_tr, grp1_ret, grp2_ret, center = 'mean')[1]>0.05\n",
    "    \n",
    "    #Check if pre-requisites for parametric testing with One-Way ANOVA are fulfilled\n",
    "    if (s_grp_norms.all() == True & levene == True):\n",
    "        check_aov = True\n",
    "    else:\n",
    "        check_aov = False\n",
    "    \n",
    "    #Calculate One-Way ANOVA\n",
    "    aov = pg.anova(data = df, between='group', dv=param, detailed=False)\n",
    "    aov_dof1, aov_dof2, aov_fstat, aov_pval = aov['ddof1'][0], aov['ddof2'][0], aov['F'][0], aov['p-unc'][0]\n",
    "    \n",
    "    #Calculate Kruskal-Wallis ANOVA\n",
    "    kwa_hstat, kwa_pval = stats.kruskal(grp1_tr, grp2_tr, grp1_ret, grp2_ret)\n",
    "    \n",
    "    #Calculate results for pairwise comparisons - parametric and non-parametric:\n",
    "    l_t_res = []\n",
    "    l_mwu_res = []\n",
    "    for (grp1, grp2) in list(itertools.combinations([1, 2, 3, 4], 2)):\n",
    "        ttest = pg.ttest(df.loc[df.group == grp1, param], df.loc[df.group == grp2, param], tail = 'two-sided', correction = 'auto')\n",
    "        l_t_res.append((ttest['dof']['T-test'], ttest['T']['T-test'], ttest['p-val']['T-test']))\n",
    "        u_stat, pval = stats.mannwhitneyu(df.loc[df.group == grp1, param],df.loc[df.group == grp2, param], alternative = 'two-sided')\n",
    "        l_mwu_res.append((u_stat, pval))\n",
    "    \n",
    "    #Append results to list\n",
    "    l_results.append((param, df.loc[df.group == 1, param].mean(), df.loc[df.group == 2, param].mean(),\n",
    "                  df.loc[df.group == 3, param].mean(), df.loc[df.group == 4, param].mean(), \n",
    "                  check_aov, aov_dof1, aov_dof2, aov_fstat, aov_pval, \n",
    "                  l_t_res[0][0], l_t_res[0][1], l_t_res[0][2],\n",
    "                  l_t_res[1][0], l_t_res[1][1], l_t_res[1][2],\n",
    "                  l_t_res[2][0], l_t_res[2][1], l_t_res[2][2],\n",
    "                  l_t_res[3][0], l_t_res[3][1], l_t_res[3][2],\n",
    "                  l_t_res[4][0], l_t_res[4][1], l_t_res[4][2],\n",
    "                  l_t_res[5][0], l_t_res[5][1], l_t_res[5][2],\n",
    "                  kwa_hstat, kwa_pval,\n",
    "                  l_mwu_res[0][0], l_mwu_res[0][1],\n",
    "                  l_mwu_res[1][0], l_mwu_res[1][1],\n",
    "                  l_mwu_res[2][0], l_mwu_res[2][1],\n",
    "                  l_mwu_res[3][0], l_mwu_res[3][1],\n",
    "                  l_mwu_res[4][0], l_mwu_res[4][1],\n",
    "                  l_mwu_res[5][0], l_mwu_res[5][1]))\n",
    "\n",
    "#Create results DataFrame\n",
    "l_columns = ['Measure', 'Mean_grp1', 'Mean_grp2', 'Mean_grp3', 'Mean_grp4', \n",
    "              'ANOVA_ok', 'ddof1', 'ddof2', 'ANOVA_F_stat', 'ANOVA_p_value', \n",
    "              'T_test_dof_grp1_2', 'T_test_T_stat_grp1_2', 'T_test_pval_grp1_2',\n",
    "              'T_test_dof_grp1_3', 'T_test_T_stat_grp1_3', 'T_test_pval_grp1_3',\n",
    "              'T_test_dof_grp1_4', 'T_test_T_stat_grp1_4', 'T_test_pval_grp1_4',\n",
    "              'T_test_dof_grp2_3', 'T_test_T_stat_grp2_3', 'T_test_pval_grp2_3',\n",
    "              'T_test_dof_grp2_4', 'T_test_T_stat_grp2_4', 'T_test_pval_grp2_4',\n",
    "              'T_test_dof_grp3_4', 'T_test_T_stat_grp3_4', 'T_test_pval_grp3_4',\n",
    "              'Kruskal_Wallis_ANOVA_H_stat', 'Kruskal_Wallis_ANOVA_pval',\n",
    "              'MWU_U_stat_grp1_2', 'MWU_pval_grp1_2',\n",
    "              'MWU_U_stat_grp1_3', 'MWU_pval_grp1_3',\n",
    "              'MWU_U_stat_grp1_4', 'MWU_pval_grp1_4',\n",
    "              'MWU_U_stat_grp2_3', 'MWU_pval_grp2_3',\n",
    "              'MWU_U_stat_grp2_4', 'MWU_pval_grp2_4',\n",
    "              'MWU_U_stat_grp3_4', 'MWU_pval_grp3_4']    \n",
    "df_results = pd.DataFrame(l_results, columns = l_columns)\n",
    "df_results.set_index('Measure', inplace=True)\n",
    "df_results\n",
    "df_results.to_excel('source_data/fig_S7/stat_results_behavior_wue1.xlsx')"
   ]
  }
 ],
 "metadata": {
  "kernelspec": {
   "display_name": "Python 3",
   "language": "python",
   "name": "python3"
  },
  "language_info": {
   "codemirror_mode": {
    "name": "ipython",
    "version": 3
   },
   "file_extension": ".py",
   "mimetype": "text/x-python",
   "name": "python",
   "nbconvert_exporter": "python",
   "pygments_lexer": "ipython3",
   "version": "3.7.3"
  }
 },
 "nbformat": 4,
 "nbformat_minor": 4
}
