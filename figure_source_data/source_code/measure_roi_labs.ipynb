{
 "cells": [
  {
   "cell_type": "code",
   "execution_count": null,
   "metadata": {
    "Collapsed": "false"
   },
   "outputs": [],
   "source": [
    "%load_ext autoreload\n",
    "%autoreload 2\n",
    "import numpy as np\n",
    "import pandas as pd\n",
    "from skimage import io\n",
    "import os\n",
    "from tqdm import tqdm_notebook\n",
    "from PIL import Image\n",
    "from PIL.TiffTags import TAGS\n",
    "import matplotlib.pyplot as plt\n",
    "%matplotlib inline\n",
    "%cd /media/data/DeepFLaSH"
   ]
  },
  {
   "cell_type": "code",
   "execution_count": null,
   "metadata": {
    "Collapsed": "false"
   },
   "outputs": [],
   "source": [
    "from scipy import ndimage\n",
    "from skimage.feature import peak_local_max\n",
    "from skimage.segmentation import relabel_sequential\n",
    "from skimage.measure import regionprops_table, label\n",
    "\n",
    "# https://scikit-image.org/docs/stable/api/skimage.measure.html?highlight=measure%20perimeter#skimage.measure.regionprops\n",
    "def measure_rois_io(mask, image,file_id, threshold=0.5, min_pixel=30, \n",
    "                   properties = ['mean_intensity', \n",
    "                                 #'max_intensity', \n",
    "                                 #'min_intensity', \n",
    "                                 #'filled_image',\n",
    "                                 'label',\n",
    "                                 #'centroid',\n",
    "                                 'area',\n",
    "                                 #'bbox'\n",
    "                                ]):\n",
    "    if mask.ndim == 3:\n",
    "        mask = np.squeeze(mask, axis=2)\n",
    "\n",
    "    # apply threshold to mask\n",
    "    # bw = closing(mask > threshold, square(2))\n",
    "    bw = (mask > threshold).astype(int)\n",
    "\n",
    "    # label image regions\n",
    "    label_image = label(bw, connectivity=2) # Falk p.13, 8-“connectivity”.\n",
    "\n",
    "    # remove areas < min pixel   \n",
    "    unique, counts = np.unique(label_image, return_counts=True)\n",
    "    label_image[np.isin(label_image, unique[counts<min_pixel])] = 0\n",
    "    \n",
    "    # re-label image\n",
    "    label_image, _ , _ = relabel_sequential(label_image, offset=1)  \n",
    "    \n",
    "    # measure region props\n",
    "    if label_image.max()>0:\n",
    "        props_inner = regionprops_table(label_image, image, properties=properties)\n",
    "        df = pd.DataFrame(props_inner)\n",
    "    else:\n",
    "        df = pd.DataFrame(np.nan,index=[0],columns=properties)\n",
    "         \n",
    "    df['Nummer'] = file_id \n",
    "    return(df)"
   ]
  },
  {
   "cell_type": "markdown",
   "metadata": {
    "Collapsed": "false"
   },
   "source": [
    "## Global Settings"
   ]
  },
  {
   "cell_type": "code",
   "execution_count": null,
   "metadata": {
    "Collapsed": "false"
   },
   "outputs": [],
   "source": [
    "CHANNELS_IMG = 1\n",
    "MASK_FOLDER = 'pred_cv'\n",
    "DATA_FOLDER = 'data_labs'\n",
    "IMAGE = 'red'\n",
    "NEUN = 'NeuN'"
   ]
  },
  {
   "cell_type": "markdown",
   "metadata": {
    "Collapsed": "false"
   },
   "source": [
    "# Labs"
   ]
  },
  {
   "cell_type": "markdown",
   "metadata": {
    "Collapsed": "true"
   },
   "source": [
    "### Lab Inns_01"
   ]
  },
  {
   "cell_type": "code",
   "execution_count": null,
   "metadata": {
    "Collapsed": "false"
   },
   "outputs": [],
   "source": [
    "LAB = 'inns_01'\n",
    "MASK = 'cFOS'\n",
    "MIN_PIXEL = 16\n",
    "META = None"
   ]
  },
  {
   "cell_type": "markdown",
   "metadata": {
    "Collapsed": "true"
   },
   "source": [
    "### Lab Inns_02"
   ]
  },
  {
   "cell_type": "code",
   "execution_count": null,
   "metadata": {
    "Collapsed": "false"
   },
   "outputs": [],
   "source": [
    "LAB = 'inns_02'\n",
    "MASK = 'cFOS'\n",
    "MIN_PIXEL = 60\n",
    "META = 'data_labs/inns_02/_metadata_inns_02.tif'"
   ]
  },
  {
   "cell_type": "markdown",
   "metadata": {
    "Collapsed": "true"
   },
   "source": [
    "### Lab Mue"
   ]
  },
  {
   "cell_type": "code",
   "execution_count": null,
   "metadata": {
    "Collapsed": "false"
   },
   "outputs": [],
   "source": [
    "LAB = 'mue'\n",
    "MIN_PIXEL = 30\n",
    "MASK = 'cFOS'\n",
    "META = None"
   ]
  },
  {
   "cell_type": "markdown",
   "metadata": {
    "Collapsed": "true"
   },
   "source": [
    "### Lab Wue_02"
   ]
  },
  {
   "cell_type": "code",
   "execution_count": null,
   "metadata": {
    "Collapsed": "false"
   },
   "outputs": [],
   "source": [
    "LAB = 'wue_02'\n",
    "MASK = 'Parv'\n",
    "IMAGE = 'green'\n",
    "MIN_PIXEL = 112\n",
    "META = 'data_labs/wue_02/images_test/1674_green.tif'"
   ]
  },
  {
   "cell_type": "markdown",
   "metadata": {
    "Collapsed": "false"
   },
   "source": [
    "### Load and adjust data"
   ]
  },
  {
   "cell_type": "markdown",
   "metadata": {
    "Collapsed": "false"
   },
   "source": [
    "Load Masks"
   ]
  },
  {
   "cell_type": "code",
   "execution_count": null,
   "metadata": {
    "Collapsed": "false"
   },
   "outputs": [],
   "source": [
    "data_path = DATA_FOLDER+'/{}/images_test'.format(LAB)\n",
    "file_ids = [each.rsplit('_',1)[0] for each in os.listdir(data_path) if each.endswith(IMAGE + '.tif')]\n",
    "image_list = [io.imread(os.path.join(data_path, img_name), as_gray=True) for \n",
    "              img_name in [s + '_' + IMAGE + '.tif' for s in file_ids]]\n",
    "neun_list = [io.imread(os.path.join(data_path, img_name), as_gray=True) for \n",
    "              img_name in [s + '_' + NEUN + '.tif' for s in file_ids]]\n",
    "len(image_list)"
   ]
  },
  {
   "cell_type": "markdown",
   "metadata": {
    "Collapsed": "false"
   },
   "source": [
    "Calc NeuN Area"
   ]
  },
  {
   "cell_type": "code",
   "execution_count": null,
   "metadata": {
    "Collapsed": "false"
   },
   "outputs": [],
   "source": [
    "df_neun_list = []\n",
    "df_neun_list = [measure_rois_io(msk, img, fid) for msk, img, fid in zip(neun_list, image_list, file_ids)]\n",
    "df_neun = pd.concat(df_neun_list)\n",
    "df_neun['Neun_Area'] = df_neun['area']\n",
    "#df_neun['Neun_Area_μ^2'] = df_neun['area']/conv_factor**2\n",
    "#df_neun['Neun_Area_mm^2'] = df_neun['area']/1000**2   #Area entspricht nun mm²\n",
    "df_neun.to_csv(os.path.join('_bio_eval',LAB,LAB+'_'+NEUN+'_results.csv'), index=False)"
   ]
  },
  {
   "cell_type": "code",
   "execution_count": null,
   "metadata": {
    "Collapsed": "false"
   },
   "outputs": [],
   "source": [
    "df_neun.head()"
   ]
  },
  {
   "cell_type": "code",
   "execution_count": null,
   "metadata": {
    "Collapsed": "false"
   },
   "outputs": [],
   "source": [
    "mask_path = MASK_FOLDER+'/{}/test/binary/'.format(LAB) #data/labels'\n",
    "ens_list = [x for x in next(os.walk(mask_path))[1] if not x.startswith('.')]\n",
    "ens_list"
   ]
  },
  {
   "cell_type": "markdown",
   "metadata": {
    "Collapsed": "false"
   },
   "source": [
    "### Loop over Models"
   ]
  },
  {
   "cell_type": "code",
   "execution_count": null,
   "metadata": {
    "Collapsed": "false"
   },
   "outputs": [],
   "source": [
    "df_cfos_list = []\n",
    "for ens in tqdm_notebook(ens_list):\n",
    "    fold_list = [x for x in next(os.walk(os.path.join(mask_path, ens)))[1] if not x.startswith('.')]\n",
    "    model_list = [[x for x in next(os.walk(os.path.join(mask_path, ens, fold)))[1] if not x.startswith('.')][0] for fold in fold_list]\n",
    "    for fold, model in zip(fold_list, model_list):\n",
    "        model_path = os.path.join(mask_path, ens, fold, model)\n",
    "        mask_list = [io.imread(os.path.join(model_path, x), as_gray=True).astype('int') for x in [s + '_' + MASK + '.png' for s in file_ids]]\n",
    "        for msk, neun in zip(mask_list, neun_list):\n",
    "            msk[neun==0]=0\n",
    "        df_list = [measure_rois_io(msk, img, fid, min_pixel=MIN_PIXEL) for msk, img, fid in zip(mask_list, image_list, file_ids)]\n",
    "        df_tmp = pd.concat(df_list)\n",
    "        df_tmp['fold'] = fold\n",
    "        df_tmp['unet'] = model\n",
    "        df_tmp['ens'] = ens\n",
    "        df_cfos_list += [df_tmp]\n",
    "df_cfos = pd.concat(df_cfos_list)"
   ]
  },
  {
   "cell_type": "code",
   "execution_count": null,
   "metadata": {
    "Collapsed": "false"
   },
   "outputs": [],
   "source": [
    "df_cfos.head()"
   ]
  },
  {
   "cell_type": "code",
   "execution_count": null,
   "metadata": {
    "Collapsed": "false"
   },
   "outputs": [],
   "source": [
    "df_cfos.to_csv(os.path.join('_bio_eval',LAB,LAB+'_'+MASK+'_ROIs.csv'), index=False)"
   ]
  },
  {
   "cell_type": "markdown",
   "metadata": {
    "Collapsed": "false"
   },
   "source": [
    "### Check results"
   ]
  },
  {
   "cell_type": "code",
   "execution_count": null,
   "metadata": {
    "Collapsed": "false"
   },
   "outputs": [],
   "source": [
    "df_cfos[(df_cfos.Nummer=='1048') & (df_cfos.unet=='f27c_sc_cyc_mue_cFOS_staple_5.0010.h5')]#.groupby(['Nummer', 'unet']).agg(['mean', 'count'])"
   ]
  },
  {
   "cell_type": "code",
   "execution_count": null,
   "metadata": {
    "Collapsed": "false"
   },
   "outputs": [],
   "source": [
    "df_cfos.groupby(['Nummer', 'unet']).agg(['mean', 'count'])"
   ]
  },
  {
   "cell_type": "markdown",
   "metadata": {
    "Collapsed": "false"
   },
   "source": [
    "# Old"
   ]
  },
  {
   "cell_type": "code",
   "execution_count": null,
   "metadata": {
    "Collapsed": "false"
   },
   "outputs": [],
   "source": [
    "conv_factor = 1.\n",
    "if META is not None:\n",
    "    img = Image.open(META)\n",
    "    meta_dict = {TAGS[key] : img.tag[key] for key in img.tag.keys()}\n",
    "    conv_factor = meta_dict['XResolution'][0][0]/meta_dict['XResolution'][0][1]\n",
    "print(conv_factor)"
   ]
  },
  {
   "cell_type": "markdown",
   "metadata": {
    "Collapsed": "false"
   },
   "source": [
    "## Pad NeuN Mask"
   ]
  },
  {
   "cell_type": "code",
   "execution_count": null,
   "metadata": {
    "Collapsed": "false"
   },
   "outputs": [],
   "source": [
    "h_add = (image_list[0].shape[0]-neun_list[0].shape[0])//2\n",
    "w_add = (image_list[0].shape[1]-neun_list[0].shape[1])//2\n",
    "neun_list = [np.pad(n, ((h_add, h_add),(w_add, w_add)), 'constant', constant_values=0) for n in neun_list]"
   ]
  }
 ],
 "metadata": {
  "kernelspec": {
   "display_name": "Python 3",
   "language": "python",
   "name": "python3"
  },
  "language_info": {
   "codemirror_mode": {
    "name": "ipython",
    "version": 3
   },
   "file_extension": ".py",
   "mimetype": "text/x-python",
   "name": "python",
   "nbconvert_exporter": "python",
   "pygments_lexer": "ipython3",
   "version": "3.7.3"
  }
 },
 "nbformat": 4,
 "nbformat_minor": 4
}
